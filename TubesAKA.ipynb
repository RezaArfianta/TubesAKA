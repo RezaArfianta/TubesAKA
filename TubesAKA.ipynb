{
  "cells": [
    {
      "cell_type": "code",
      "execution_count": null,
      "metadata": {},
      "outputs": [],
      "source": [
        "import pandas as pd\n",
        "import matplotlib.pyplot as plt\n",
        "import time\n",
        "import numpy as np"
      ]
    },
    {
      "cell_type": "code",
      "execution_count": null,
      "metadata": {},
      "outputs": [
        {
          "name": "stdout",
          "output_type": "stream",
          "text": [
            "<class 'pandas.core.frame.DataFrame'>\n",
            "RangeIndex: 100000 entries, 0 to 99999\n",
            "Data columns (total 15 columns):\n",
            " #   Column                    Non-Null Count   Dtype  \n",
            "---  ------                    --------------   -----  \n",
            " 0   Unnamed: 0                100000 non-null  int64  \n",
            " 1   brand                     100000 non-null  object \n",
            " 2   model                     100000 non-null  object \n",
            " 3   color                     99924 non-null   object \n",
            " 4   registration_date         99999 non-null   object \n",
            " 5   year                      100000 non-null  object \n",
            " 6   price_in_euro             100000 non-null  object \n",
            " 7   power_kw                  99925 non-null   object \n",
            " 8   power_ps                  99928 non-null   object \n",
            " 9   transmission_type         100000 non-null  object \n",
            " 10  fuel_type                 100000 non-null  object \n",
            " 11  fuel_consumption_l_100km  88761 non-null   object \n",
            " 12  fuel_consumption_g_km     100000 non-null  object \n",
            " 13  mileage_in_km             99932 non-null   float64\n",
            " 14  offer_description         100000 non-null  object \n",
            "dtypes: float64(1), int64(1), object(13)\n",
            "memory usage: 11.4+ MB\n"
          ]
        }
      ],
      "source": [
        "df = pd.read_csv(\"gcar_data.csv\")\n",
        "\n",
        "df.info()"
      ]
    },
    {
      "cell_type": "code",
      "execution_count": null,
      "metadata": {},
      "outputs": [
        {
          "name": "stdout",
          "output_type": "stream",
          "text": [
            "<class 'pandas.core.frame.DataFrame'>\n",
            "Index: 87982 entries, 0 to 99999\n",
            "Data columns (total 15 columns):\n",
            " #   Column                    Non-Null Count  Dtype  \n",
            "---  ------                    --------------  -----  \n",
            " 0   Unnamed: 0                87982 non-null  int64  \n",
            " 1   brand                     87982 non-null  object \n",
            " 2   model                     87982 non-null  object \n",
            " 3   color                     87912 non-null  object \n",
            " 4   registration_date         87982 non-null  object \n",
            " 5   year                      87982 non-null  object \n",
            " 6   price_in_euro             87982 non-null  object \n",
            " 7   power_kw                  87939 non-null  object \n",
            " 8   power_ps                  87939 non-null  object \n",
            " 9   transmission_type         87982 non-null  object \n",
            " 10  fuel_type                 87982 non-null  object \n",
            " 11  fuel_consumption_l_100km  87982 non-null  float64\n",
            " 12  fuel_consumption_g_km     87982 non-null  object \n",
            " 13  mileage_in_km             87933 non-null  float64\n",
            " 14  offer_description         87982 non-null  object \n",
            "dtypes: float64(2), int64(1), object(12)\n",
            "memory usage: 10.7+ MB\n"
          ]
        },
        {
          "name": "stderr",
          "output_type": "stream",
          "text": [
            "<ipython-input-3-bc9a51248cf2>:11: SettingWithCopyWarning: \n",
            "A value is trying to be set on a copy of a slice from a DataFrame.\n",
            "Try using .loc[row_indexer,col_indexer] = value instead\n",
            "\n",
            "See the caveats in the documentation: https://pandas.pydata.org/pandas-docs/stable/user_guide/indexing.html#returning-a-view-versus-a-copy\n",
            "  df['fuel_consumption_l_100km'] = df['fuel_consumption_l_100km'].astype(float)\n"
          ]
        }
      ],
      "source": [
        "df['fuel_consumption_l_100km'] = df['fuel_consumption_l_100km'].str.replace(' l/100 km', '', regex=False)\n",
        "df['fuel_consumption_l_100km'] = df['fuel_consumption_l_100km'].str.replace(',', '.', regex=False)\n",
        "# regex=False untuk menghindari interpretasi 'l/100 km' sebagai ekspresi reguler.\n",
        "\n",
        "df['fuel_consumption_l_100km'] = pd.to_numeric(df['fuel_consumption_l_100km'], errors='coerce')\n",
        "\n",
        "# Menghapus baris yang memiliki NaN di kolom 'fuel_consumption_l_100km'\n",
        "df = df.dropna(subset=['fuel_consumption_l_100km'])\n",
        "\n",
        "# Jika Anda ingin mengubah kolom tersebut menjadi float setelah menghapus NaN\n",
        "df['fuel_consumption_l_100km'] = df['fuel_consumption_l_100km'].astype(float)\n",
        "\n",
        "df.info()"
      ]
    },
    {
      "cell_type": "code",
      "execution_count": null,
      "metadata": {},
      "outputs": [
        {
          "data": {
            "text/plain": [
              "(       Unnamed: 0 brand       model   color registration_date  year  \\\n",
              " 30365       60433  ford  Ford B-Max  bronze           12/2012  2012   \n",
              " 39750       20297  audi     Audi A3  silver           05/2021  2021   \n",
              " 64378       88682   kia   Kia Venga  silver           04/2016  2016   \n",
              " 98437       40998   bmw     BMW 330   white           03/2020  2020   \n",
              " 27259       15134  audi     Audi A4    grey           03/2018  2018   \n",
              " \n",
              "       price_in_euro power_kw power_ps transmission_type fuel_type  \\\n",
              " 30365          8999       74      101            Manual    Petrol   \n",
              " 39750         28950      110      150         Automatic    Diesel   \n",
              " 64378         13750       92      125         Automatic    Petrol   \n",
              " 98437         35900      195      265         Automatic    Diesel   \n",
              " 27259         18499      140      190         Automatic    Petrol   \n",
              " \n",
              "        fuel_consumption_l_100km fuel_consumption_g_km  mileage_in_km  \\\n",
              " 30365                       4.9              - (g/km)        59500.0   \n",
              " 39750                       4.5              121 g/km        46500.0   \n",
              " 64378                       6.5              - (g/km)        38000.0   \n",
              " 98437                       5.4              141 g/km        96600.0   \n",
              " 27259                       6.1              139 g/km       171000.0   \n",
              " \n",
              "                                        offer_description  \n",
              " 30365                 1.0 EcoBoost Titanium Sync Edition  \n",
              " 39750         Sportback 35 TDI S-tronic NAVI STANDHZ LED  \n",
              " 64378          Venga 1.6 CVVT Automatik Platinum Edition  \n",
              " 98437  330D Tour.xDrive M-Sport SAG,Navig.Prof,Abstan...  \n",
              " 27259             TFSI 2x S line AHK/LED/VIRTUAL/ACC/SHZ  ,\n",
              "        Unnamed: 0 brand       model   color registration_date  year  \\\n",
              " 30365       60433  ford  Ford B-Max  bronze           12/2012  2012   \n",
              " 39750       20297  audi     Audi A3  silver           05/2021  2021   \n",
              " 64378       88682   kia   Kia Venga  silver           04/2016  2016   \n",
              " 98437       40998   bmw     BMW 330   white           03/2020  2020   \n",
              " 27259       15134  audi     Audi A4    grey           03/2018  2018   \n",
              " \n",
              "       price_in_euro power_kw power_ps transmission_type fuel_type  \\\n",
              " 30365          8999       74      101            Manual    Petrol   \n",
              " 39750         28950      110      150         Automatic    Diesel   \n",
              " 64378         13750       92      125         Automatic    Petrol   \n",
              " 98437         35900      195      265         Automatic    Diesel   \n",
              " 27259         18499      140      190         Automatic    Petrol   \n",
              " \n",
              "        fuel_consumption_l_100km fuel_consumption_g_km  mileage_in_km  \\\n",
              " 30365                       4.9              - (g/km)        59500.0   \n",
              " 39750                       4.5              121 g/km        46500.0   \n",
              " 64378                       6.5              - (g/km)        38000.0   \n",
              " 98437                       5.4              141 g/km        96600.0   \n",
              " 27259                       6.1              139 g/km       171000.0   \n",
              " \n",
              "                                        offer_description  \n",
              " 30365                 1.0 EcoBoost Titanium Sync Edition  \n",
              " 39750         Sportback 35 TDI S-tronic NAVI STANDHZ LED  \n",
              " 64378          Venga 1.6 CVVT Automatik Platinum Edition  \n",
              " 98437  330D Tour.xDrive M-Sport SAG,Navig.Prof,Abstan...  \n",
              " 27259             TFSI 2x S line AHK/LED/VIRTUAL/ACC/SHZ  )"
            ]
          },
          "metadata": {},
          "output_type": "display_data"
        }
      ],
      "source": [
        "random_sample = df.sample(n=475, random_state=42)\n",
        "random_sample_2 = df.sample(n=475, random_state=42)\n",
        "random_sample.head(), random_sample_2.head()"
      ]
    },
    {
      "cell_type": "code",
      "execution_count": null,
      "metadata": {},
      "outputs": [
        {
          "name": "stdout",
          "output_type": "stream",
          "text": [
            "<class 'pandas.core.frame.DataFrame'>\n",
            "Index: 475 entries, 30365 to 23191\n",
            "Data columns (total 15 columns):\n",
            " #   Column                    Non-Null Count  Dtype  \n",
            "---  ------                    --------------  -----  \n",
            " 0   Unnamed: 0                475 non-null    int64  \n",
            " 1   brand                     475 non-null    object \n",
            " 2   model                     475 non-null    object \n",
            " 3   color                     474 non-null    object \n",
            " 4   registration_date         475 non-null    object \n",
            " 5   year                      475 non-null    object \n",
            " 6   price_in_euro             475 non-null    object \n",
            " 7   power_kw                  474 non-null    object \n",
            " 8   power_ps                  474 non-null    object \n",
            " 9   transmission_type         475 non-null    object \n",
            " 10  fuel_type                 475 non-null    object \n",
            " 11  fuel_consumption_l_100km  475 non-null    float64\n",
            " 12  fuel_consumption_g_km     475 non-null    object \n",
            " 13  mileage_in_km             475 non-null    float64\n",
            " 14  offer_description         475 non-null    object \n",
            "dtypes: float64(2), int64(1), object(12)\n",
            "memory usage: 59.4+ KB\n"
          ]
        }
      ],
      "source": [
        "random_sample.info()"
      ]
    },
    {
      "cell_type": "code",
      "execution_count": null,
      "metadata": {},
      "outputs": [
        {
          "name": "stdout",
          "output_type": "stream",
          "text": [
            "Sebelum sorting:\n",
            "               model  fuel_consumption_l_100km\n",
            "30365     Ford B-Max                       4.9\n",
            "39750        Audi A3                       4.5\n",
            "64378      Kia Venga                       6.5\n",
            "98437        BMW 330                       5.4\n",
            "27259        Audi A4                       6.1\n",
            "...              ...                       ...\n",
            "51589      Fiat 500L                       4.8\n",
            "18583    Dacia Lodgy                       6.7\n",
            "44832   Ford Mustang                       8.0\n",
            "63020      Ford Puma                       4.3\n",
            "23191  Citroen Jumpy                       5.6\n",
            "\n",
            "[475 rows x 2 columns]\n",
            "\n",
            "Setelah sorting (paling irit ke paling boros):\n",
            "                        model  fuel_consumption_l_100km\n",
            "30365                 Audi Q5                       0.4\n",
            "39750               Ford Kuga                       1.2\n",
            "64378                 Audi A6                       1.5\n",
            "98437                 BMW 330                       1.7\n",
            "27259                 BMW 225                       1.9\n",
            "...                       ...                       ...\n",
            "51589                 Audi R8                      13.9\n",
            "18583                  BMW Z8                      14.5\n",
            "44832  Bentley Continental GT                      14.5\n",
            "63020             Ferrari 812                      15.0\n",
            "23191               Dodge RAM                      15.3\n",
            "\n",
            "[475 rows x 2 columns]\n"
          ]
        }
      ],
      "source": [
        "# testing insertion sort rekursif\n",
        "def recursive_insertion_sort(random_sample, n=None):\n",
        "    if n is None:\n",
        "        n = len(random_sample)\n",
        "\n",
        "    # Basis rekursi: jika hanya ada satu elemen, sudah terurut\n",
        "    if n <= 1:\n",
        "        return\n",
        "\n",
        "    # Rekursi untuk mengurutkan n-1 elemen pertama\n",
        "    recursive_insertion_sort(random_sample, n - 1)\n",
        "\n",
        "    # Sisipkan elemen terakhir ke posisi yang benar\n",
        "    key = random_sample.iloc[n - 1]\n",
        "    j = n - 2\n",
        "\n",
        "    # Geser elemen yang lebih boros ke kanan\n",
        "    while j >= 0 and random_sample.iloc[j]['fuel_consumption_l_100km'] > key['fuel_consumption_l_100km']:\n",
        "        random_sample.iloc[j + 1] = random_sample.iloc[j]\n",
        "        j -= 1\n",
        "\n",
        "    # Masukkan elemen pada posisi yang tepat\n",
        "    random_sample.iloc[j + 1] = key\n",
        "\n",
        "\n",
        "print(\"Sebelum sorting:\")\n",
        "print(random_sample[['model', 'fuel_consumption_l_100km']])\n",
        "\n",
        "# Sortir mobil berdasarkan efisiensi BBM\n",
        "recursive_insertion_sort(random_sample)\n",
        "\n",
        "print(\"\\nSetelah sorting (paling irit ke paling boros):\")\n",
        "print(random_sample[['model', 'fuel_consumption_l_100km']])\n"
      ]
    },
    {
      "cell_type": "code",
      "execution_count": null,
      "metadata": {},
      "outputs": [
        {
          "name": "stdout",
          "output_type": "stream",
          "text": [
            "Sebelum sorting:\n",
            "               model  fuel_consumption_l_100km\n",
            "30365     Ford B-Max                       4.9\n",
            "39750        Audi A3                       4.5\n",
            "64378      Kia Venga                       6.5\n",
            "98437        BMW 330                       5.4\n",
            "27259        Audi A4                       6.1\n",
            "...              ...                       ...\n",
            "51589      Fiat 500L                       4.8\n",
            "18583    Dacia Lodgy                       6.7\n",
            "44832   Ford Mustang                       8.0\n",
            "63020      Ford Puma                       4.3\n",
            "23191  Citroen Jumpy                       5.6\n",
            "\n",
            "[475 rows x 2 columns]\n",
            "\n",
            "Setelah sorting (paling irit ke paling boros):\n",
            "                        model  fuel_consumption_l_100km\n",
            "30365                 Audi Q5                       0.4\n",
            "39750               Ford Kuga                       1.2\n",
            "64378                 Audi A6                       1.5\n",
            "98437                 BMW 330                       1.7\n",
            "27259                 BMW 225                       1.9\n",
            "...                       ...                       ...\n",
            "51589                 Audi R8                      13.9\n",
            "18583                  BMW Z8                      14.5\n",
            "44832  Bentley Continental GT                      14.5\n",
            "63020             Ferrari 812                      15.0\n",
            "23191               Dodge RAM                      15.3\n",
            "\n",
            "[475 rows x 2 columns]\n"
          ]
        }
      ],
      "source": [
        "# testing insertion sort iteratif\n",
        "def insertion_sort_mobil(random_sample):\n",
        "    n = len(random_sample)\n",
        "    for i in range(1, n):\n",
        "        key = random_sample.iloc[i]  # Mobil yang sedang disortir\n",
        "        j = i - 1\n",
        "        # Geser elemen yang lebih boros ke kanan\n",
        "        while j >= 0 and random_sample.iloc[j]['fuel_consumption_l_100km'] > key['fuel_consumption_l_100km']:\n",
        "            random_sample.iloc[j + 1] = random_sample.iloc[j]\n",
        "            j -= 1\n",
        "        # Masukkan mobil di posisi yang tepat\n",
        "        random_sample.iloc[j + 1] = key\n",
        "\n",
        "print(\"Sebelum sorting:\")\n",
        "print(random_sample_2[['model', 'fuel_consumption_l_100km']])\n",
        "\n",
        "# Sortir mobil berdasarkan efisiensi BBM\n",
        "insertion_sort_mobil(random_sample_2)\n",
        "\n",
        "print(\"\\nSetelah sorting (paling irit ke paling boros):\")\n",
        "print(random_sample_2[['model', 'fuel_consumption_l_100km']])"
      ]
    },
    {
      "cell_type": "code",
      "execution_count": null,
      "metadata": {},
      "outputs": [
        {
          "data": {
            "image/png": "[encoded data removed]",
            "text/plain": [
              "<Figure size 1000x600 with 1 Axes>"
            ]
          },
          "metadata": {},
          "output_type": "display_data"
        },
        {
          "name": "stdout",
          "output_type": "stream",
          "text": [
            "Total waktu Recursive Insertion Sort: 812.19148 detik\n",
            "Total waktu Iterative Insertion Sort: 813.79188 detik\n"
          ]
        }
      ],
      "source": [
        "# Simulate the data\n",
        "np.random.seed(0)\n",
        "models = [f\"Model_{i}\" for i in range(1, 1001)]\n",
        "fuel_consumption = np.random.uniform(5, 15, 1000)  # Random fuel consumption between 5 and 15\n",
        "\n",
        "\n",
        "# Function to time the sorting process\n",
        "def time_insertion_sort(data, sorting_function):\n",
        "    start_time = time.time()\n",
        "    sorting_function(data)\n",
        "    end_time = time.time()\n",
        "    return end_time - start_time\n",
        "\n",
        "# Recursive Insertion Sort\n",
        "def recursive_insertion_sort(random_sample, n=None):\n",
        "    if n is None:\n",
        "        n = len(random_sample)\n",
        "\n",
        "    if n <= 1:\n",
        "        return\n",
        "\n",
        "    recursive_insertion_sort(random_sample, n - 1)\n",
        "    key = random_sample.iloc[n - 1]\n",
        "    j = n - 2\n",
        "    while j >= 0 and random_sample.iloc[j]['fuel_consumption_l_100km'] > key['fuel_consumption_l_100km']:\n",
        "        random_sample.iloc[j + 1] = random_sample.iloc[j]\n",
        "        j -= 1\n",
        "    random_sample.iloc[j + 1] = key\n",
        "\n",
        "# Iterative Insertion Sort\n",
        "def iterative_insertion_sort(random_sample):\n",
        "    n = len(random_sample)\n",
        "    for i in range(1, n):\n",
        "        key = random_sample.iloc[i]\n",
        "        j = i - 1\n",
        "        while j >= 0 and random_sample.iloc[j]['fuel_consumption_l_100km'] > key['fuel_consumption_l_100km']:\n",
        "            random_sample.iloc[j + 1] = random_sample.iloc[j]\n",
        "            j -= 1\n",
        "        random_sample.iloc[j + 1] = key\n",
        "\n",
        "# Measure execution times for different data sizes\n",
        "data_sizes = range(25, 476, 25)\n",
        "recursive_times = []\n",
        "iterative_times = []\n",
        "random_sample = df.sample(n=475, random_state=42)\n",
        "\n",
        "for size in data_sizes:\n",
        "    subset = random_sample.head(size)\n",
        "    total_recursive_time = sum(recursive_times)\n",
        "    total_iterative_time = sum(iterative_times)\n",
        "    # Time recursive insertion sort\n",
        "    recursive_time = time_insertion_sort(subset.copy(), recursive_insertion_sort)\n",
        "    recursive_times.append(recursive_time)\n",
        "\n",
        "    # Time iterative insertion sort\n",
        "    iterative_time = time_insertion_sort(subset.copy(), iterative_insertion_sort)\n",
        "    iterative_times.append(iterative_time)\n",
        "\n",
        "# Plotting the results\n",
        "plt.figure(figsize=(10, 6))\n",
        "plt.plot(data_sizes, recursive_times, label='Recursive Insertion Sort', marker='o')\n",
        "plt.plot(data_sizes, iterative_times, label='Iterative Insertion Sort', marker='o')\n",
        "plt.xlabel('Data Size')\n",
        "plt.ylabel('Execution Time (seconds)')\n",
        "plt.title('Execution Time of Recursive vs Iterative Insertion Sort')\n",
        "plt.xticks(range(25, 476, 50))\n",
        "plt.legend()\n",
        "plt.grid(True)\n",
        "plt.show()\n",
        "print(f\"Total waktu Recursive Insertion Sort: {total_recursive_time:.5f} detik\")\n",
        "print(f\"Total waktu Iterative Insertion Sort: {total_iterative_time:.5f} detik\")\n"
      ]
    }
  ],
  "metadata": {
    "accelerator": "GPU",
    "colab": {
      "gpuType": "T4",
      "provenance": []
    },
    "kernelspec": {
      "display_name": "Python 3",
      "name": "python3"
    },
    "language_info": {
      "name": "python"
    }
  },
  "nbformat": 4,
  "nbformat_minor": 0
}
